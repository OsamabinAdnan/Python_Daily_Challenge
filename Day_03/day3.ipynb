{
 "cells": [
  {
   "cell_type": "markdown",
   "metadata": {
    "id": "9L15QfvzqEh6"
   },
   "source": [
    "## 📢 Day 3  Daily Python Challenge 🐍\n",
    " #### Challenge: Aisa Python program likho jo user se ek number le aur check kare ke wo prime number hai ya nahi! 🔢💡\n",
    "\n",
    "#### 🔥 Example:\n",
    "#### 📌 Input: 7\n",
    "#### 📌 Output: Yes, it's a prime number!\n",
    "#### 📌 Input: 10\n",
    "#### 📌 Output: No, it's not a prime number!"
   ]
  },
  {
   "cell_type": "code",
   "execution_count": 1,
   "metadata": {},
   "outputs": [
    {
     "name": "stdout",
     "output_type": "stream",
     "text": [
      " Yes, it's a prime number!\n"
     ]
    }
   ],
   "source": [
    "num = int(input(\"Enter any number to check if it's a prime number or not: \"))\n",
    "\n",
    "if num > 1:\n",
    "    for i in range(2, num):\n",
    "        if num % i == 0:\n",
    "            print(\" No, it's not a prime number!\")\n",
    "            break\n",
    "    else:\n",
    "        print(\" Yes, it's a prime number!\")  # Moved this outside the loop\n",
    "else:\n",
    "    print(\"It is not a prime number!\")\n"
   ]
  }
 ],
 "metadata": {
  "colab": {
   "authorship_tag": "ABX9TyO99Jg0/Jtd0WOMeWl9MRJ3",
   "provenance": []
  },
  "kernelspec": {
   "display_name": "Python 3",
   "name": "python3"
  },
  "language_info": {
   "codemirror_mode": {
    "name": "ipython",
    "version": 3
   },
   "file_extension": ".py",
   "mimetype": "text/x-python",
   "name": "python",
   "nbconvert_exporter": "python",
   "pygments_lexer": "ipython3",
   "version": "3.13.2"
  }
 },
 "nbformat": 4,
 "nbformat_minor": 0
}
